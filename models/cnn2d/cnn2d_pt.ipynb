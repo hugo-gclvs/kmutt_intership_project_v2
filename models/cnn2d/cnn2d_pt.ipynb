{
 "cells": [
  {
   "cell_type": "code",
   "execution_count": 18,
   "metadata": {},
   "outputs": [],
   "source": [
    "import os\n",
    "os.chdir('/home/hugo-dev/esirem-dev/4a/kmutt/kmutt_v2')"
   ]
  },
  {
   "cell_type": "code",
   "execution_count": 19,
   "metadata": {},
   "outputs": [],
   "source": [
    "import json\n",
    "import matplotlib.pyplot as plt\n",
    "import numpy as np\n",
    "import torch\n",
    "import torch.nn as nn\n",
    "import torch.nn.functional as F\n",
    "import torch.optim as optim\n",
    "from datetime import datetime\n",
    "from typing import Tuple, Dict, Any\n",
    "from sklearn.model_selection import train_test_split, KFold\n",
    "from tqdm import tqdm\n",
    "from utils.load_data import load_patient_data"
   ]
  },
  {
   "cell_type": "code",
   "execution_count": 20,
   "metadata": {},
   "outputs": [],
   "source": [
    "DATA_PATH = './data/data_25ms_h=50%_16mfcc_RMT-HRK.json'\n",
    "SAVED_MODEL_PATH = './models/cnn2d/model.pt'\n",
    "EPOCHS = 10\n",
    "BATCH_SIZE = 32\n",
    "PATIENCE = 5\n",
    "LEARNING_RATE = 0.0001"
   ]
  },
  {
   "cell_type": "code",
   "execution_count": 21,
   "metadata": {},
   "outputs": [],
   "source": [
    "def get_data_splits(data_path: str, test_size: float = 0.05, val_size: float = 0.1, n_splits: int = 5) -> Tuple[np.ndarray, np.ndarray, np.ndarray, np.ndarray, np.ndarray, np.ndarray, np.ndarray, np.ndarray, np.ndarray]:\n",
    "    \"\"\"Splits data into training, validation, and testing sets ensuring no overlap of patients between sets.\n",
    "\n",
    "    :param data_path (str): Path to json file containing data\n",
    "    :param test_size (float): Fraction of data to be used as test set\n",
    "    :param val_size (float): Fraction of training data to be used as validation set\n",
    "    :param n_splits (int): Number of splits for KFold\n",
    "    :return: Tuple of arrays: X_train, X_val, X_test, y_train, y_val, y_test, files_train, files_val, files_test\n",
    "    \"\"\"\n",
    "    patients = load_patient_data(data_path)\n",
    "\n",
    "    patient_ids = list(patients.keys())\n",
    "\n",
    "    # Create train/test splits using KFold on patient IDs\n",
    "    kf = KFold(n_splits=n_splits, shuffle=True, random_state=23)\n",
    "    \n",
    "    for train_index, test_index in kf.split(patient_ids):\n",
    "        train_patients = [patient_ids[i] for i in train_index]\n",
    "        test_patients = [patient_ids[i] for i in test_index]\n",
    "        \n",
    "        # Extract MFCCs, labels, and files for train and test patients\n",
    "        X_train, y_train, files_train = [], [], []\n",
    "        X_test, y_test, files_test = [], [], []\n",
    "        \n",
    "        for patient_id in train_patients:\n",
    "            patient = patients[patient_id]\n",
    "            X_train.extend(patient['mfcc'])\n",
    "            y_train.extend([patient['label']] * len(patient['mfcc']))\n",
    "            files_train.extend([patient_id] * len(patient['mfcc']))\n",
    "            \n",
    "        for patient_id in test_patients:\n",
    "            patient = patients[patient_id]\n",
    "            X_test.extend(patient['mfcc'])\n",
    "            y_test.extend([patient['label']] * len(patient['mfcc']))\n",
    "            files_test.extend([patient_id] * len(patient['mfcc']))\n",
    "        \n",
    "        # Convert lists to numpy arrays\n",
    "        X_train, y_train, files_train = np.array(X_train), np.array(y_train), np.array(files_train)\n",
    "        X_test, y_test, files_test = np.array(X_test), np.array(y_test), np.array(files_test)\n",
    "        \n",
    "        # Create validation split from train set ensuring no patient overlap\n",
    "        unique_train_patients = np.unique(files_train)\n",
    "        val_patients_count = int(len(unique_train_patients) * val_size)\n",
    "        val_patients = np.random.choice(unique_train_patients, val_patients_count, replace=False)\n",
    "        train_patients = np.setdiff1d(unique_train_patients, val_patients)\n",
    "        \n",
    "        X_val, y_val, files_val = [], [], []\n",
    "        new_X_train, new_y_train, new_files_train = [], [], []\n",
    "        \n",
    "        for patient_id in train_patients:\n",
    "            idxs = np.where(files_train == patient_id)[0]\n",
    "            new_X_train.extend(X_train[idxs])\n",
    "            new_y_train.extend(y_train[idxs])\n",
    "            new_files_train.extend(files_train[idxs])\n",
    "        \n",
    "        for patient_id in val_patients:\n",
    "            idxs = np.where(files_train == patient_id)[0]\n",
    "            X_val.extend(X_train[idxs])\n",
    "            y_val.extend(y_train[idxs])\n",
    "            files_val.extend(files_train[idxs])\n",
    "        \n",
    "        # Convert lists to numpy arrays\n",
    "        new_X_train, new_y_train, new_files_train = np.array(new_X_train), np.array(new_y_train), np.array(new_files_train)\n",
    "        X_val, y_val, files_val = np.array(X_val), np.array(y_val), np.array(files_val)\n",
    "        \n",
    "        # Convert inputs from 2D to 3D arrays\n",
    "        new_X_train = new_X_train[..., np.newaxis]\n",
    "        X_val = X_val[..., np.newaxis]\n",
    "        X_test = X_test[..., np.newaxis]\n",
    "\n",
    "        return new_X_train, X_val, X_test, new_y_train, y_val, y_test, new_files_train, files_val, files_test"
   ]
  },
  {
   "cell_type": "code",
   "execution_count": 22,
   "metadata": {},
   "outputs": [],
   "source": [
    "def plot_history(history):\n",
    "    r\"\"\"Plots accuracy/loss for training/validation set as a function of the epochs.\n",
    "\n",
    "    Args:\n",
    "        history:\n",
    "            Training history of the model.\n",
    "\n",
    "    Returns:\n",
    "        : matplotlib figure\n",
    "    \"\"\"\n",
    "    fig, axs = plt.subplots(2)\n",
    "\n",
    "    # create accuracy subplot\n",
    "    axs[0].plot(history['acc'] if isinstance(history, dict) else history.history['acc'], label='acc')\n",
    "    axs[0].plot(history['val_acc'] if isinstance(history, dict) else history.history['val_acc'], label='val_acc')\n",
    "    axs[0].set_ylabel('Accuracy')\n",
    "    axs[0].legend(loc='lower right')\n",
    "    axs[0].set_title('Accuracy evaluation')\n",
    "\n",
    "    # create loss subplot\n",
    "    axs[1].plot(history['loss'] if isinstance(history, dict) else history.history['loss'], label='loss')\n",
    "    axs[1].plot(history['val_loss'] if isinstance(history, dict) else history.history['val_loss'], label='val_loss')\n",
    "    axs[1].set_xlabel('Epoch')\n",
    "    axs[1].set_ylabel('Loss')\n",
    "    axs[1].legend(loc='upper right')\n",
    "    axs[1].set_title('Loss evaluation')\n",
    "    plt.show()"
   ]
  },
  {
   "cell_type": "code",
   "execution_count": 23,
   "metadata": {},
   "outputs": [],
   "source": [
    "def get_loss(\n",
    "        model: torch.nn.Module,\n",
    "        loss_fn,\n",
    "        dataloader: torch.utils.data.DataLoader,\n",
    "        device=torch.device('cuda' if torch.cuda.is_available() else 'cpu')\n",
    "):\n",
    "    model.eval()  # set the module in evaluation mode\n",
    "    running_loss_per_epoch = 0.0\n",
    "    running_number_of_samples_per_epoch = 0\n",
    "    with torch.no_grad():\n",
    "        for data in tqdm(dataloader):\n",
    "            inputs, labels = data  # get the inputs; data is a list of [inputs, labels]\n",
    "            inputs, labels = inputs.to(device), labels.to(device)\n",
    "            outputs = model(inputs).to(device)\n",
    "            loss = loss_fn(outputs, labels)\n",
    "            running_loss_per_epoch += loss.item() * len(labels)\n",
    "            running_number_of_samples_per_epoch += len(labels)\n",
    "    return running_loss_per_epoch / running_number_of_samples_per_epoch"
   ]
  },
  {
   "cell_type": "code",
   "execution_count": 24,
   "metadata": {},
   "outputs": [],
   "source": [
    "def get_accuracy(\n",
    "        model: torch.nn.Module,\n",
    "        dataloader: torch.utils.data.DataLoader,\n",
    "        device=torch.device('cuda' if torch.cuda.is_available() else 'cpu')\n",
    "):\n",
    "    model.eval()  # set the module in evaluation mode\n",
    "    running_correct_samples_per_epoch = 0\n",
    "    running_number_of_samples_per_epoch = 0\n",
    "    with torch.no_grad():\n",
    "        for data in tqdm(dataloader):\n",
    "            inputs, labels = data  # get the inputs; data is a list of [inputs, labels]\n",
    "            inputs, labels = inputs.to(device), labels.to(device)\n",
    "            y_pred = torch.argmax(model(inputs), dim=1)\n",
    "            number_of_correct_predictions = sum(y_pred == labels).item()\n",
    "            running_correct_samples_per_epoch += number_of_correct_predictions\n",
    "            running_number_of_samples_per_epoch += len(labels)\n",
    "    return running_correct_samples_per_epoch / running_number_of_samples_per_epoch"
   ]
  },
  {
   "cell_type": "code",
   "execution_count": 25,
   "metadata": {},
   "outputs": [],
   "source": [
    "def predict(\n",
    "        model: torch.nn.Module,\n",
    "        dataloader: torch.utils.data.DataLoader,\n",
    "        device=torch.device('cuda' if torch.cuda.is_available() else 'cpu')\n",
    "):\n",
    "    model.eval()  # set the module in evaluation mode\n",
    "    test_preds = []\n",
    "    with torch.no_grad():\n",
    "        for data in tqdm(dataloader):\n",
    "            inputs, y = data  # get the inputs; data is a list of [inputs, labels]\n",
    "            inputs, y = inputs.to(device), y.to(device)\n",
    "            y_pred = torch.argmax(model(inputs), dim=1)\n",
    "            test_preds.extend(list(y_pred.detach().numpy()))\n",
    "    return np.array(test_preds)"
   ]
  },
  {
   "cell_type": "code",
   "execution_count": 26,
   "metadata": {},
   "outputs": [],
   "source": [
    "def prepare_pt_dataloader(X: np.ndarray, y: np.ndarray, batch_size: int = 32, shuffle: bool = False):\n",
    "    # torch wants the input in NCHW (instead of NHWC format)\n",
    "    dataset = torch.utils.data.TensorDataset(\n",
    "        torch.tensor(X, dtype=torch.float32).permute(0, 3, 1, 2), torch.tensor(y, dtype=torch.int64))\n",
    "    dataloader = torch.utils.data.DataLoader(dataset, batch_size=batch_size, shuffle=shuffle)\n",
    "    return dataloader"
   ]
  },
  {
   "cell_type": "code",
   "execution_count": 27,
   "metadata": {},
   "outputs": [],
   "source": [
    "class CNN(nn.Module):\n",
    "    def __init__(self, num_classes: int):\n",
    "        super(CNN, self).__init__()\n",
    "        self.conv1 = nn.Conv2d(1, 64, kernel_size=(1, 3), padding='same')\n",
    "        self.relu = nn.ReLU()\n",
    "        self.bn1 = nn.BatchNorm2d(64)\n",
    "        self.maxpool1 = nn.MaxPool2d((1, 2))\n",
    "\n",
    "        self.conv2 = nn.Conv2d(64, 128, kernel_size=(1, 3), padding='same')\n",
    "        self.bn2 = nn.BatchNorm2d(128)\n",
    "        self.maxpool2 = nn.MaxPool2d((1, 2))\n",
    "\n",
    "        self.conv3 = nn.Conv2d(128, 256, kernel_size=(1, 3), padding='same')\n",
    "        self.bn3 = nn.BatchNorm2d(256)\n",
    "        self.maxpool3 = nn.MaxPool2d((1, 2))\n",
    "\n",
    "        self.flatten = nn.Flatten()\n",
    "\n",
    "        # Adjust input size based on the new shape (1, 16, 1)\n",
    "        self.fc1 = nn.Linear(256 * 1 * 2, 128)  # Adjust input size accordingly\n",
    "        self.dropout = nn.Dropout(0.5)  # Dropout rate\n",
    "\n",
    "        self.fc2 = nn.Linear(128, num_classes)\n",
    "\n",
    "    def forward(self, x):\n",
    "        x = self.conv1(x)\n",
    "        x = self.relu(x)\n",
    "        x = self.bn1(x)\n",
    "        x = self.maxpool1(x)\n",
    "\n",
    "        x = self.conv2(x)\n",
    "        x = self.relu(x)\n",
    "        x = self.bn2(x)\n",
    "        x = self.maxpool2(x)\n",
    "\n",
    "        x = self.conv3(x)\n",
    "        x = self.relu(x)\n",
    "        x = self.bn3(x)\n",
    "        x = self.maxpool3(x)\n",
    "\n",
    "        x = self.flatten(x)\n",
    "        x = self.fc1(x)\n",
    "        x = self.dropout(x)\n",
    "        x = self.relu(x)\n",
    "        x = self.fc2(x)\n",
    "        return x"
   ]
  },
  {
   "cell_type": "code",
   "execution_count": 28,
   "metadata": {},
   "outputs": [],
   "source": [
    "class EarlyStopper:\n",
    "    def __init__(self, monitor: str = 'val_loss', min_delta: float = 0.0, patience: int = 1):\n",
    "        self.monitor = monitor\n",
    "        self.min_delta = min_delta\n",
    "        self.patience = patience\n",
    "        self.counter = 0\n",
    "        self.min_val_loss = float('inf')\n",
    "        self.max_val_acc = 0\n",
    "\n",
    "    def early_stop(self, val):\n",
    "        if self.monitor.endswith('loss'):\n",
    "            if val < self.min_val_loss:\n",
    "                self.min_val_loss = val\n",
    "                self.counter = 0\n",
    "            elif val > self.min_val_loss + self.min_delta:\n",
    "                self.counter += 1\n",
    "                if self.counter >= self.patience:\n",
    "                    return True\n",
    "            return False\n",
    "        elif self.monitor.endswith('acc'):\n",
    "            if val > self.max_val_acc:\n",
    "                self.max_val_acc = val\n",
    "                self.counter = 0\n",
    "            elif val < self.max_val_acc - self.min_delta:\n",
    "                self.counter += 1\n",
    "                if self.counter >= self.patience:\n",
    "                    return True\n",
    "            return False\n",
    "        else:\n",
    "            raise ValueError(f'The only recognized quantities to be monitored are: loss, acc')"
   ]
  },
  {
   "cell_type": "code",
   "execution_count": 29,
   "metadata": {},
   "outputs": [],
   "source": [
    "def build_pt_model(num_classes: int):\n",
    "    model = CNN(num_classes)\n",
    "    # print(torchinfo.summary(model, input_size=(BATCH_SIZE, 1, 44, 13)))\n",
    "    return model"
   ]
  },
  {
   "cell_type": "code",
   "execution_count": 30,
   "metadata": {},
   "outputs": [],
   "source": [
    "def train_pt_model(\n",
    "        model: torch.nn.Module,\n",
    "        X_train,\n",
    "        y_train,\n",
    "        X_val=None,\n",
    "        y_val=None,\n",
    "        epochs: int = 40,\n",
    "        patience: int = 5,\n",
    "        batch_size: int = 32,\n",
    "        learning_rate: float = 0.001\n",
    "):\n",
    "    optimizer = torch.optim.Adam(model.parameters(), lr=learning_rate, weight_decay=0.001)\n",
    "    loss_fn = torch.nn.CrossEntropyLoss()\n",
    "\n",
    "    train_dataloader = prepare_pt_dataloader(X_train, y_train, batch_size=batch_size, shuffle=True)\n",
    "    val_dataloader = prepare_pt_dataloader(X_val, y_val, batch_size=batch_size, shuffle=False)\n",
    "\n",
    "    early_stopper = EarlyStopper(monitor='val_acc', min_delta=0.01, patience=patience)\n",
    "\n",
    "    #  creating history of logs\n",
    "    history = {\n",
    "        'loss': [],\n",
    "        'acc': [],\n",
    "        'val_loss': [],\n",
    "        'val_acc': []\n",
    "    }\n",
    "\n",
    "    device = torch.device('cuda' if torch.cuda.is_available() else 'cpu')\n",
    "    for epoch in range(epochs):\n",
    "        model.train()  # set the module in training mode  (you should set this here inside the `range(epochs)` loop)\n",
    "        print(f'Epoch: {epoch+1}: Is model in train mode?', model.training)\n",
    "        running_loss_per_epoch = 0.0\n",
    "        running_number_of_correct_predictions_per_epoch = 0\n",
    "        running_number_of_samples_per_epoch = 0\n",
    "        for batch_idx, data in enumerate(tqdm(train_dataloader)):\n",
    "            optimizer.zero_grad()  # reset the gradients\n",
    "\n",
    "            inputs, labels = data  # get the inputs; data is a list of [inputs, labels]\n",
    "            inputs, labels = inputs.to(device), labels.to(device)\n",
    "\n",
    "            outputs = model(inputs).to(device)\n",
    "            loss = loss_fn(outputs, labels)\n",
    "\n",
    "            loss.backward()  # compute gradients during backpropagation\n",
    "            optimizer.step()  # update the params\n",
    "\n",
    "            # epoch statistics\n",
    "            y_pred = torch.argmax(outputs, dim=1).to(device)\n",
    "            running_loss_per_epoch += loss.item() * len(labels)\n",
    "            running_number_of_correct_predictions_per_epoch += sum(y_pred == labels).item()\n",
    "            running_number_of_samples_per_epoch += len(labels)\n",
    "\n",
    "        train_loss = running_loss_per_epoch / running_number_of_samples_per_epoch\n",
    "        train_acc = running_number_of_correct_predictions_per_epoch / running_number_of_samples_per_epoch\n",
    "        val_loss = get_loss(model, loss_fn, val_dataloader, device=device)\n",
    "        val_acc = get_accuracy(model, val_dataloader, device=device)\n",
    "\n",
    "        history['loss'].append(train_loss)\n",
    "        history['acc'].append(train_acc)\n",
    "        history['val_loss'].append(val_loss)\n",
    "        history['val_acc'].append(val_acc)\n",
    "\n",
    "        print(f\"[{datetime.now().strftime('%Y-%m-%d %H:%M:%S')}] \"\n",
    "              f\"Epoch {epoch+1}/{epochs}\\n\"\n",
    "              f\"{len(train_dataloader)}/{len(train_dataloader)} [==============================] \"\n",
    "              f\"loss: {train_loss:.4f} - acc: {train_acc:.4f} - \"\n",
    "              f\"val_loss: {val_loss:.4f} - val_acc: {val_acc:.4f} - lr: {optimizer.state_dict()['param_groups'][0]['lr']}\")\n",
    "\n",
    "        if early_stopper.early_stop(val_acc):\n",
    "            print(f'Early stopping criterion triggered: We did not have an increase in val_acc after {patience} epochs.')\n",
    "            break\n",
    "\n",
    "    return model, history"
   ]
  },
  {
   "cell_type": "code",
   "execution_count": 31,
   "metadata": {},
   "outputs": [],
   "source": [
    "def eval_pt_model(\n",
    "        model: torch.nn.Module,\n",
    "        loss_fn,\n",
    "        X_test,\n",
    "        y_test,\n",
    "        files_test,\n",
    "        mapping=None,\n",
    "        device=torch.device('cuda' if torch.cuda.is_available() else 'cpu')\n",
    "):\n",
    "    test_dataloader = prepare_pt_dataloader(X_test, y_test, batch_size=32, shuffle=False)\n",
    "\n",
    "    # get accumulated statistics\n",
    "    test_loss = get_loss(model, loss_fn, test_dataloader, device=device)\n",
    "    test_acc = get_accuracy(model, test_dataloader, device=device)\n",
    "    print(f'\\ntest_loss: {test_loss:.4f}, test_acc: {test_acc:.4f}\\n')\n",
    "\n",
    "    # see specific examples\n",
    "    # y_test_pred = predict(model, test_dataloader)\n",
    "    # for file, y, yhat in zip(files_test, y_test, y_test_pred):\n",
    "    #     if y == yhat:\n",
    "    #         print(f'{file}: true: {y if mapping is None else mapping[y]}, '\n",
    "    #               f'pred: {yhat if mapping is None else mapping[yhat]}')\n",
    "    #     else:\n",
    "    #         print(f'    WRONG!!! {file}: true: {y if mapping is None else mapping[y]}, '\n",
    "    #               f'pred: {yhat if mapping is None else mapping[yhat]}')"
   ]
  },
  {
   "cell_type": "code",
   "execution_count": 32,
   "metadata": {},
   "outputs": [
    {
     "name": "stdout",
     "output_type": "stream",
     "text": [
      "X_train shape: (290686, 1, 16, 1), y_train shape: (290686,)\n",
      "Epoch: 1: Is model in train mode? True\n"
     ]
    },
    {
     "name": "stderr",
     "output_type": "stream",
     "text": [
      "100%|██████████| 9084/9084 [01:39<00:00, 91.27it/s] \n",
      "100%|██████████| 1021/1021 [00:02<00:00, 365.43it/s]\n",
      "100%|██████████| 1021/1021 [00:02<00:00, 373.01it/s]\n"
     ]
    },
    {
     "name": "stdout",
     "output_type": "stream",
     "text": [
      "[2024-05-21 13:20:25] Epoch 1/10\n",
      "9084/9084 [==============================] loss: 0.1987 - acc: 0.9187 - val_loss: 0.0516 - val_acc: 0.9798 - lr: 0.0001\n",
      "Epoch: 2: Is model in train mode? True\n"
     ]
    },
    {
     "name": "stderr",
     "output_type": "stream",
     "text": [
      "100%|██████████| 9084/9084 [02:19<00:00, 65.15it/s] \n",
      "100%|██████████| 1021/1021 [00:05<00:00, 183.34it/s]\n",
      "100%|██████████| 1021/1021 [00:07<00:00, 137.42it/s]\n"
     ]
    },
    {
     "name": "stdout",
     "output_type": "stream",
     "text": [
      "[2024-05-21 13:22:58] Epoch 2/10\n",
      "9084/9084 [==============================] loss: 0.1600 - acc: 0.9354 - val_loss: 0.0513 - val_acc: 0.9817 - lr: 0.0001\n",
      "Epoch: 3: Is model in train mode? True\n"
     ]
    },
    {
     "name": "stderr",
     "output_type": "stream",
     "text": [
      "100%|██████████| 9084/9084 [02:02<00:00, 74.23it/s] \n",
      "100%|██████████| 1021/1021 [00:03<00:00, 274.60it/s]\n",
      "100%|██████████| 1021/1021 [00:03<00:00, 271.01it/s]\n"
     ]
    },
    {
     "name": "stdout",
     "output_type": "stream",
     "text": [
      "[2024-05-21 13:25:07] Epoch 3/10\n",
      "9084/9084 [==============================] loss: 0.1477 - acc: 0.9402 - val_loss: 0.1107 - val_acc: 0.9620 - lr: 0.0001\n",
      "Epoch: 4: Is model in train mode? True\n"
     ]
    },
    {
     "name": "stderr",
     "output_type": "stream",
     "text": [
      "100%|██████████| 9084/9084 [02:01<00:00, 74.61it/s] \n",
      "100%|██████████| 1021/1021 [00:02<00:00, 381.20it/s]\n",
      "100%|██████████| 1021/1021 [00:02<00:00, 354.16it/s]\n"
     ]
    },
    {
     "name": "stdout",
     "output_type": "stream",
     "text": [
      "[2024-05-21 13:27:15] Epoch 4/10\n",
      "9084/9084 [==============================] loss: 0.1409 - acc: 0.9433 - val_loss: 0.0914 - val_acc: 0.9664 - lr: 0.0001\n",
      "Epoch: 5: Is model in train mode? True\n"
     ]
    },
    {
     "name": "stderr",
     "output_type": "stream",
     "text": [
      "100%|██████████| 9084/9084 [01:58<00:00, 76.35it/s] \n",
      "100%|██████████| 1021/1021 [00:03<00:00, 255.36it/s]\n",
      "100%|██████████| 1021/1021 [00:06<00:00, 154.25it/s]\n"
     ]
    },
    {
     "name": "stdout",
     "output_type": "stream",
     "text": [
      "[2024-05-21 13:29:24] Epoch 5/10\n",
      "9084/9084 [==============================] loss: 0.1355 - acc: 0.9454 - val_loss: 0.1110 - val_acc: 0.9617 - lr: 0.0001\n",
      "Epoch: 6: Is model in train mode? True\n"
     ]
    },
    {
     "name": "stderr",
     "output_type": "stream",
     "text": [
      "100%|██████████| 9084/9084 [01:52<00:00, 80.86it/s] \n",
      "100%|██████████| 1021/1021 [00:03<00:00, 309.48it/s]\n",
      "100%|██████████| 1021/1021 [00:03<00:00, 313.61it/s]\n"
     ]
    },
    {
     "name": "stdout",
     "output_type": "stream",
     "text": [
      "[2024-05-21 13:31:23] Epoch 6/10\n",
      "9084/9084 [==============================] loss: 0.1320 - acc: 0.9466 - val_loss: 0.0641 - val_acc: 0.9768 - lr: 0.0001\n",
      "Epoch: 7: Is model in train mode? True\n"
     ]
    },
    {
     "name": "stderr",
     "output_type": "stream",
     "text": [
      "100%|██████████| 9084/9084 [02:49<00:00, 53.67it/s] \n",
      "100%|██████████| 1021/1021 [00:04<00:00, 229.60it/s]\n",
      "100%|██████████| 1021/1021 [00:06<00:00, 152.48it/s]\n"
     ]
    },
    {
     "name": "stdout",
     "output_type": "stream",
     "text": [
      "[2024-05-21 13:34:24] Epoch 7/10\n",
      "9084/9084 [==============================] loss: 0.1296 - acc: 0.9478 - val_loss: 0.0948 - val_acc: 0.9695 - lr: 0.0001\n",
      "Epoch: 8: Is model in train mode? True\n"
     ]
    },
    {
     "name": "stderr",
     "output_type": "stream",
     "text": [
      "100%|██████████| 9084/9084 [02:01<00:00, 75.06it/s] \n",
      "100%|██████████| 1021/1021 [00:03<00:00, 277.96it/s]\n",
      "100%|██████████| 1021/1021 [00:04<00:00, 247.24it/s]\n"
     ]
    },
    {
     "name": "stdout",
     "output_type": "stream",
     "text": [
      "[2024-05-21 13:36:33] Epoch 8/10\n",
      "9084/9084 [==============================] loss: 0.1282 - acc: 0.9485 - val_loss: 0.0881 - val_acc: 0.9693 - lr: 0.0001\n",
      "Early stopping criterion triggered: We did not have an increase in val_acc after 5 epochs.\n"
     ]
    },
    {
     "data": {
      "image/png": "[encoded data removed]",
      "text/plain": [
       "<Figure size 640x480 with 2 Axes>"
      ]
     },
     "metadata": {},
     "output_type": "display_data"
    },
    {
     "name": "stderr",
     "output_type": "stream",
     "text": [
      "100%|██████████| 1956/1956 [00:09<00:00, 197.11it/s]\n",
      "100%|██████████| 1956/1956 [00:08<00:00, 235.59it/s]\n"
     ]
    },
    {
     "name": "stdout",
     "output_type": "stream",
     "text": [
      "\n",
      "test_loss: 1.3905, test_acc: 0.4325\n",
      "\n"
     ]
    }
   ],
   "source": [
    "with open(DATA_PATH, 'rb') as f:\n",
    "    data = json.load(f)\n",
    "mapping = data['mapping']\n",
    "NUM_CLASSES = len(mapping)\n",
    "\n",
    "X_train, X_val, X_test, y_train, y_val, y_test, files_train, files_val, files_test = get_data_splits(DATA_PATH)\n",
    "\n",
    "print(f\"X_train shape: {X_train.shape}, y_train shape: {y_train.shape}\")\n",
    "\n",
    "# build the model\n",
    "pt_model = build_pt_model(NUM_CLASSES)\n",
    "\n",
    "# train the model\n",
    "pt_model, pt_history = train_pt_model(\n",
    "    pt_model, X_train, y_train, X_val=X_val, y_val=y_val,\n",
    "    epochs=EPOCHS, batch_size=BATCH_SIZE, learning_rate=LEARNING_RATE\n",
    ")\n",
    "\n",
    "# plot history\n",
    "plot_history(pt_history)\n",
    "\n",
    "# evaluate the model on test data\n",
    "eval_pt_model(pt_model, torch.nn.CrossEntropyLoss(), X_test, y_test, files_test, mapping=mapping)\n",
    "\n",
    "# save the model\n",
    "scripted_model = torch.jit.script(pt_model)\n",
    "scripted_model.save(SAVED_MODEL_PATH)"
   ]
  },
  {
   "cell_type": "code",
   "execution_count": 33,
   "metadata": {},
   "outputs": [
    {
     "name": "stderr",
     "output_type": "stream",
     "text": [
      "100%|██████████| 1956/1956 [00:06<00:00, 284.42it/s]\n"
     ]
    },
    {
     "name": "stdout",
     "output_type": "stream",
     "text": [
      "              precision    recall  f1-score   support\n",
      "\n",
      "           0       0.83      0.40      0.54     52067\n",
      "           1       0.17      0.60      0.26     10522\n",
      "\n",
      "    accuracy                           0.43     62589\n",
      "   macro avg       0.50      0.50      0.40     62589\n",
      "weighted avg       0.72      0.43      0.49     62589\n",
      "\n"
     ]
    }
   ],
   "source": [
    "# get recall, F1, and precision\n",
    "from sklearn.metrics import classification_report\n",
    "\n",
    "y_pred = predict(pt_model, prepare_pt_dataloader(X_test, y_test, batch_size=32, shuffle=False))\n",
    "print(classification_report(y_test, y_pred, zero_division=0))"
   ]
  },
  {
   "cell_type": "code",
   "execution_count": 34,
   "metadata": {},
   "outputs": [
    {
     "data": {
      "image/png": "[encoded data removed]",
      "text/plain": [
       "<Figure size 640x480 with 1 Axes>"
      ]
     },
     "metadata": {},
     "output_type": "display_data"
    }
   ],
   "source": [
    "# AUC-ROC\n",
    "from sklearn.metrics import roc_auc_score\n",
    "from sklearn.preprocessing import label_binarize\n",
    "\n",
    "y_test_bin = label_binarize(y_test, classes=[0, 1, 2, 3, 4, 5, 6, 7, 8, 9])\n",
    "y_pred_bin = label_binarize(y_pred, classes=[0, 1, 2, 3, 4, 5, 6, 7, 8, 9])\n",
    "\n",
    "roc_auc_score(y_test_bin, y_pred_bin, average='micro')\n",
    "\n",
    "# ROC curve\n",
    "from sklearn.metrics import roc_curve\n",
    "import matplotlib.pyplot as plt\n",
    "\n",
    "fpr = dict()\n",
    "tpr = dict()\n",
    "roc_auc = dict()\n",
    "for i in range(NUM_CLASSES):\n",
    "    fpr[i], tpr[i], _ = roc_curve(y_test_bin[:, i], y_pred_bin[:, i])\n",
    "    roc_auc[i] = roc_auc_score(y_test_bin[:, i], y_pred_bin[:, i])\n",
    "\n",
    "plt.figure()\n",
    "lw = 2\n",
    "for i in range(NUM_CLASSES):\n",
    "    plt.plot(fpr[i], tpr[i], lw=lw, label=f'ROC curve of class {i} (area = {roc_auc[i]:0.2f})')\n",
    "plt.plot([0, 1], [0, 1], color='navy', lw=lw, linestyle='--')\n",
    "plt.xlim([0.0, 1.0])\n",
    "plt.ylim([0.0, 1.05])\n",
    "plt.xlabel('False Positive Rate')\n",
    "plt.ylabel('True Positive Rate')\n",
    "plt.title('Receiver Operating Characteristic')\n",
    "plt.legend(loc=\"lower right\")\n",
    "plt.show()\n"
   ]
  }
 ],
 "metadata": {
  "kernelspec": {
   "display_name": ".venv",
   "language": "python",
   "name": "python3"
  },
  "language_info": {
   "codemirror_mode": {
    "name": "ipython",
    "version": 3
   },
   "file_extension": ".py",
   "mimetype": "text/x-python",
   "name": "python",
   "nbconvert_exporter": "python",
   "pygments_lexer": "ipython3",
   "version": "3.11.2"
  }
 },
 "nbformat": 4,
 "nbformat_minor": 2
}
